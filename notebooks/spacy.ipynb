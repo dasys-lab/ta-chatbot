{
 "cells": [
  {
   "cell_type": "code",
   "execution_count": 1,
   "metadata": {},
   "outputs": [],
   "source": [
    "import spacy\n",
    "from spacy import displacy\n",
    "from spacy.tokens import Doc\n",
    "\n",
    "spacy.tokens.token.Token.set_extension('transient', default='')\n"
   ]
  },
  {
   "cell_type": "code",
   "execution_count": 2,
   "metadata": {},
   "outputs": [],
   "source": [
    "nlp = spacy.load('en')"
   ]
  },
  {
   "cell_type": "code",
   "execution_count": 3,
   "metadata": {},
   "outputs": [],
   "source": [
    "def display_text_tree(text):\n",
    "    doc = nlp(unicode(text, \"utf-8\")) if isinstance(text, str) else nlp(text)\n",
    "    for token in doc:\n",
    "        print(token.text, token.lemma_, token.pos_, token.tag_, token.dep_,\n",
    "                token.shape_, token.is_alpha, token.is_stop)\n",
    "    displacy.render(doc, style=\"dep\")\n",
    "    return doc\n",
    "\n",
    "def get_doc(text):\n",
    "    doc = nlp(unicode(text, \"utf-8\"))\n",
    "    return doc"
   ]
  },
  {
   "cell_type": "code",
   "execution_count": null,
   "metadata": {},
   "outputs": [],
   "source": [
    "display_text_tree('Bring me a cup of coffee.')"
   ]
  },
  {
   "cell_type": "code",
   "execution_count": null,
   "metadata": {},
   "outputs": [],
   "source": [
    "display_text_tree('Bring Kevin a cup of coffee.')"
   ]
  },
  {
   "cell_type": "code",
   "execution_count": 11,
   "metadata": {},
   "outputs": [
    {
     "name": "stdout",
     "output_type": "stream",
     "text": [
      "(u'Where', u'where', u'ADV', u'WRB', u'advmod', u'Xxxxx', True, True)\n",
      "(u'is', u'be', u'VERB', u'VBZ', u'ROOT', u'xx', True, True)\n",
      "(u'Kevin', u'Kevin', u'PROPN', u'NNP', u'nsubj', u'Xxxxx', True, False)\n",
      "(u'?', u'?', u'PUNCT', u'.', u'punct', u'?', False, False)\n"
     ]
    },
    {
     "data": {
      "text/html": [
       "<svg xmlns=\"http://www.w3.org/2000/svg\" xmlns:xlink=\"http://www.w3.org/1999/xlink\" xml:lang=\"en\" id=\"4f6651736e98437caee43a1684e33954-0\" class=\"displacy\" width=\"575\" height=\"224\" direction=\"ltr\" style=\"max-width: none; height: 224px; color: #000000; background: #ffffff; font-family: Arial; direction: ltr\">\n",
       "<text class=\"displacy-token\" fill=\"currentColor\" text-anchor=\"middle\" y=\"134\">\n",
       "    <tspan class=\"displacy-word\" fill=\"currentColor\" x=\"50\">Where</tspan>\n",
       "    <tspan class=\"displacy-tag\" dy=\"2em\" fill=\"currentColor\" x=\"50\">ADV</tspan>\n",
       "</text>\n",
       "\n",
       "<text class=\"displacy-token\" fill=\"currentColor\" text-anchor=\"middle\" y=\"134\">\n",
       "    <tspan class=\"displacy-word\" fill=\"currentColor\" x=\"225\">is</tspan>\n",
       "    <tspan class=\"displacy-tag\" dy=\"2em\" fill=\"currentColor\" x=\"225\">VERB</tspan>\n",
       "</text>\n",
       "\n",
       "<text class=\"displacy-token\" fill=\"currentColor\" text-anchor=\"middle\" y=\"134\">\n",
       "    <tspan class=\"displacy-word\" fill=\"currentColor\" x=\"400\">Kevin?</tspan>\n",
       "    <tspan class=\"displacy-tag\" dy=\"2em\" fill=\"currentColor\" x=\"400\">PROPN</tspan>\n",
       "</text>\n",
       "\n",
       "<g class=\"displacy-arrow\">\n",
       "    <path class=\"displacy-arc\" id=\"arrow-4f6651736e98437caee43a1684e33954-0-0\" stroke-width=\"2px\" d=\"M70,89 C70,2 225,2 225,89\" fill=\"none\" stroke=\"currentColor\"/>\n",
       "    <text dy=\"1.25em\" style=\"font-size: 0.8em; letter-spacing: 1px\">\n",
       "        <textPath xlink:href=\"#arrow-4f6651736e98437caee43a1684e33954-0-0\" class=\"displacy-label\" startOffset=\"50%\" side=\"left\" fill=\"currentColor\" text-anchor=\"middle\">advmod</textPath>\n",
       "    </text>\n",
       "    <path class=\"displacy-arrowhead\" d=\"M70,91 L62,79 78,79\" fill=\"currentColor\"/>\n",
       "</g>\n",
       "\n",
       "<g class=\"displacy-arrow\">\n",
       "    <path class=\"displacy-arc\" id=\"arrow-4f6651736e98437caee43a1684e33954-0-1\" stroke-width=\"2px\" d=\"M245,89 C245,2 400,2 400,89\" fill=\"none\" stroke=\"currentColor\"/>\n",
       "    <text dy=\"1.25em\" style=\"font-size: 0.8em; letter-spacing: 1px\">\n",
       "        <textPath xlink:href=\"#arrow-4f6651736e98437caee43a1684e33954-0-1\" class=\"displacy-label\" startOffset=\"50%\" side=\"left\" fill=\"currentColor\" text-anchor=\"middle\">nsubj</textPath>\n",
       "    </text>\n",
       "    <path class=\"displacy-arrowhead\" d=\"M400,91 L408,79 392,79\" fill=\"currentColor\"/>\n",
       "</g>\n",
       "</svg>"
      ],
      "text/plain": [
       "<IPython.core.display.HTML object>"
      ]
     },
     "metadata": {},
     "output_type": "display_data"
    },
    {
     "data": {
      "text/plain": [
       "Where is Kevin?"
      ]
     },
     "execution_count": 11,
     "metadata": {},
     "output_type": "execute_result"
    }
   ],
   "source": [
    "display_text_tree('Where is Kevin?')"
   ]
  },
  {
   "cell_type": "code",
   "execution_count": 10,
   "metadata": {},
   "outputs": [
    {
     "name": "stdout",
     "output_type": "stream",
     "text": [
      "[u'Where', u'is', u'Kevin', '.']\n",
      "(u'I', u'-PRON-', u'PRON', u'PRP', u'nsubj', u'X', True, True)\n",
      "(u'where', u'where', u'ADV', u'WRB', u'advmod', u'xxxx', True, True)\n",
      "(u'is', u'be', u'VERB', u'VBZ', u'ROOT', u'xx', True, True)\n",
      "(u'Kevin', u'Kevin', u'PROPN', u'NNP', u'nsubj', u'Xxxxx', True, False)\n",
      "(u'.', u'.', u'PUNCT', u'.', u'punct', u'.', False, False)\n"
     ]
    },
    {
     "data": {
      "text/html": [
       "<svg xmlns=\"http://www.w3.org/2000/svg\" xmlns:xlink=\"http://www.w3.org/1999/xlink\" xml:lang=\"en\" id=\"c5934a5bc5c24e9cb3f638e5ea7c557c-0\" class=\"displacy\" width=\"750\" height=\"311\" direction=\"ltr\" style=\"max-width: none; height: 311px; color: #000000; background: #ffffff; font-family: Arial; direction: ltr\">\n",
       "<text class=\"displacy-token\" fill=\"currentColor\" text-anchor=\"middle\" y=\"221\">\n",
       "    <tspan class=\"displacy-word\" fill=\"currentColor\" x=\"50\">I</tspan>\n",
       "    <tspan class=\"displacy-tag\" dy=\"2em\" fill=\"currentColor\" x=\"50\">PRON</tspan>\n",
       "</text>\n",
       "\n",
       "<text class=\"displacy-token\" fill=\"currentColor\" text-anchor=\"middle\" y=\"221\">\n",
       "    <tspan class=\"displacy-word\" fill=\"currentColor\" x=\"225\">where</tspan>\n",
       "    <tspan class=\"displacy-tag\" dy=\"2em\" fill=\"currentColor\" x=\"225\">ADV</tspan>\n",
       "</text>\n",
       "\n",
       "<text class=\"displacy-token\" fill=\"currentColor\" text-anchor=\"middle\" y=\"221\">\n",
       "    <tspan class=\"displacy-word\" fill=\"currentColor\" x=\"400\">is</tspan>\n",
       "    <tspan class=\"displacy-tag\" dy=\"2em\" fill=\"currentColor\" x=\"400\">VERB</tspan>\n",
       "</text>\n",
       "\n",
       "<text class=\"displacy-token\" fill=\"currentColor\" text-anchor=\"middle\" y=\"221\">\n",
       "    <tspan class=\"displacy-word\" fill=\"currentColor\" x=\"575\">Kevin .</tspan>\n",
       "    <tspan class=\"displacy-tag\" dy=\"2em\" fill=\"currentColor\" x=\"575\">PROPN</tspan>\n",
       "</text>\n",
       "\n",
       "<g class=\"displacy-arrow\">\n",
       "    <path class=\"displacy-arc\" id=\"arrow-c5934a5bc5c24e9cb3f638e5ea7c557c-0-0\" stroke-width=\"2px\" d=\"M70,176 C70,1 400,1 400,176\" fill=\"none\" stroke=\"currentColor\"/>\n",
       "    <text dy=\"1.25em\" style=\"font-size: 0.8em; letter-spacing: 1px\">\n",
       "        <textPath xlink:href=\"#arrow-c5934a5bc5c24e9cb3f638e5ea7c557c-0-0\" class=\"displacy-label\" startOffset=\"50%\" side=\"left\" fill=\"currentColor\" text-anchor=\"middle\">nsubj</textPath>\n",
       "    </text>\n",
       "    <path class=\"displacy-arrowhead\" d=\"M70,178 L62,166 78,166\" fill=\"currentColor\"/>\n",
       "</g>\n",
       "\n",
       "<g class=\"displacy-arrow\">\n",
       "    <path class=\"displacy-arc\" id=\"arrow-c5934a5bc5c24e9cb3f638e5ea7c557c-0-1\" stroke-width=\"2px\" d=\"M245,176 C245,89 395,89 395,176\" fill=\"none\" stroke=\"currentColor\"/>\n",
       "    <text dy=\"1.25em\" style=\"font-size: 0.8em; letter-spacing: 1px\">\n",
       "        <textPath xlink:href=\"#arrow-c5934a5bc5c24e9cb3f638e5ea7c557c-0-1\" class=\"displacy-label\" startOffset=\"50%\" side=\"left\" fill=\"currentColor\" text-anchor=\"middle\">advmod</textPath>\n",
       "    </text>\n",
       "    <path class=\"displacy-arrowhead\" d=\"M245,178 L237,166 253,166\" fill=\"currentColor\"/>\n",
       "</g>\n",
       "\n",
       "<g class=\"displacy-arrow\">\n",
       "    <path class=\"displacy-arc\" id=\"arrow-c5934a5bc5c24e9cb3f638e5ea7c557c-0-2\" stroke-width=\"2px\" d=\"M420,176 C420,89 570,89 570,176\" fill=\"none\" stroke=\"currentColor\"/>\n",
       "    <text dy=\"1.25em\" style=\"font-size: 0.8em; letter-spacing: 1px\">\n",
       "        <textPath xlink:href=\"#arrow-c5934a5bc5c24e9cb3f638e5ea7c557c-0-2\" class=\"displacy-label\" startOffset=\"50%\" side=\"left\" fill=\"currentColor\" text-anchor=\"middle\">nsubj</textPath>\n",
       "    </text>\n",
       "    <path class=\"displacy-arrowhead\" d=\"M570,178 L578,166 562,166\" fill=\"currentColor\"/>\n",
       "</g>\n",
       "</svg>"
      ],
      "text/plain": [
       "<IPython.core.display.HTML object>"
      ]
     },
     "metadata": {},
     "output_type": "display_data"
    },
    {
     "data": {
      "text/plain": [
       "I where is Kevin ."
      ]
     },
     "execution_count": 10,
     "metadata": {},
     "output_type": "execute_result"
    }
   ],
   "source": [
    "doc = get_doc('Where is Kevin?')\n",
    "aux_found = False\n",
    "# TODO use detokenizer\n",
    "for token in doc:\n",
    "    if token.tag_ == 'PRP':\n",
    "        token._.transient = 'you' if token.text == 'me' else token.text\n",
    "    else:\n",
    "        token._.transient = token.text\n",
    "        \n",
    "    if token.dep_ == 'aux':\n",
    "        aux_found = True\n",
    "    \n",
    "    if aux_found and token.dep_ == 'nsubj':\n",
    "        token._.transient = ''\n",
    "        aux_found = False\n",
    "    \n",
    "    if token.dep_ == 'punct':\n",
    "        token._.transient = '.'\n",
    "        \n",
    "        \n",
    "response_list = [token._.transient for token in doc]\n",
    "print(response_list)\n",
    "response_list[0] = response_list[0].lower()\n",
    "response_list = filter(None, response_list)\n",
    "response = \"I \" + \" \".join(response_list)\n",
    "\n",
    "display_text_tree(response)"
   ]
  },
  {
   "cell_type": "code",
   "execution_count": null,
   "metadata": {},
   "outputs": [],
   "source": []
  },
  {
   "cell_type": "code",
   "execution_count": null,
   "metadata": {},
   "outputs": [],
   "source": []
  }
 ],
 "metadata": {
  "kernelspec": {
   "display_name": "Python 2",
   "language": "python",
   "name": "python2"
  },
  "language_info": {
   "codemirror_mode": {
    "name": "ipython",
    "version": 2
   },
   "file_extension": ".py",
   "mimetype": "text/x-python",
   "name": "python",
   "nbconvert_exporter": "python",
   "pygments_lexer": "ipython2",
   "version": "2.7.15rc1"
  }
 },
 "nbformat": 4,
 "nbformat_minor": 2
}
