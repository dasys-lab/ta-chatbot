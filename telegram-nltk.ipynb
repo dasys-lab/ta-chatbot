{
 "cells": [
  {
   "cell_type": "markdown",
   "metadata": {},
   "source": [
    "# NLTK Stuff"
   ]
  },
  {
   "cell_type": "code",
   "execution_count": 1,
   "metadata": {},
   "outputs": [],
   "source": [
    "from nltk.chat.util import Chat, reflections\n",
    "import time"
   ]
  },
  {
   "cell_type": "code",
   "execution_count": 2,
   "metadata": {},
   "outputs": [],
   "source": [
    "conversation_pairs = [\n",
    "    [\n",
    "        r\"hi|hey|hello\",\n",
    "        [\"Hello!\", \"Hey there!\",]\n",
    "    ],\n",
    "    [\n",
    "        r\"good morning\",\n",
    "        [\"Good morning!\"]\n",
    "    ],\n",
    "    [\n",
    "        r\"good evening\",\n",
    "        [\"Good evening!\"]\n",
    "    ],\n",
    "    [\n",
    "        r\"my name is (.*)\",\n",
    "        [\"Hello %1, How are you today?\",]\n",
    "    ],\n",
    "    [\n",
    "        r\"what is your name?\",\n",
    "        [\"My name is Chuck Norris!\",]\n",
    "    ],\n",
    "    [\n",
    "        r\"what do you do in your free time?\",\n",
    "        [\"I don't have any free time!.\"]\n",
    "    ],\n",
    "    [\n",
    "        r\"what time is it?\",\n",
    "        [\"It's\" + time.strftime(\"%H:%M:%S\") + \".\"]\n",
    "    ],\n",
    "    [\n",
    "        r\"what is today?|what day is today?\",\n",
    "        [\"Today is \" + time.strftime(\"%A\") + \".\"]\n",
    "    ],\n",
    "    [\n",
    "        r\"where are you from?\",\n",
    "        [\"I'm from Germany.\"]\n",
    "    ],\n",
    "    [\n",
    "        r\"when is your birthday?\",\n",
    "        [\"My birthday is on April 15st.\"]\n",
    "    ],\n",
    "    [\n",
    "        r\"how old are you?\",\n",
    "        [\"I'm over 200 years old.\"]\n",
    "    ],\n",
    "    [\n",
    "        r\"how are you ?|how's it going?|what's up?|what's going on?\",\n",
    "        [\"I'm doing good.\\nHow about You?\",]\n",
    "    ],\n",
    "    [\n",
    "        r\"how is your day?\",\n",
    "        [\"It's going well.\"]\n",
    "    ],\n",
    "    [\n",
    "        r\"are you married?\",\n",
    "        [\"No, but looking for someone nice.\"]\n",
    "    ],\n",
    "    [\n",
    "        r\"what is your favorite food?\",\n",
    "        [\"My favorite food is Spaghetti.\"]\n",
    "    ],\n",
    "    [\n",
    "        r\"what is your favorite color?\",\n",
    "        [\"My favorite color is green.\"]\n",
    "    ],\n",
    "    [\n",
    "        r\"what is your favorite drink?\",\n",
    "        [\"My favorite drink is beer.\"]\n",
    "    ],\n",
    "    [\n",
    "        r\"what is your favorite color?\",\n",
    "        [\"My favorite color is green.\"]\n",
    "    ],\n",
    "    [\n",
    "        r\"how do you do?\",\n",
    "        [\"I'm doing well.\\nHow about You?\"]\n",
    "    ],\n",
    "    [\n",
    "        r\"sorry (.*)\",\n",
    "        [\"Its alright..\",\"Its OK, never mind..\",]\n",
    "    ],\n",
    "    [\n",
    "        r\"i'm (.*) doing good\",\n",
    "        [\"Nice to hear that\",\"Alright :)\",]\n",
    "    ],\n",
    "    [\n",
    "        r\"my (.*) is (.*)\",\n",
    "        [\"I will remember your %1 as %2 from now on.\"]\n",
    "    ],\n",
    "    [\n",
    "        r\"(.*)\",\n",
    "        [\"I don't know what you mean.\"]\n",
    "    ]\n",
    "]"
   ]
  },
  {
   "cell_type": "code",
   "execution_count": 3,
   "metadata": {},
   "outputs": [],
   "source": [
    "nltk_chat = Chat(conversation_pairs, reflections)"
   ]
  },
  {
   "cell_type": "code",
   "execution_count": 4,
   "metadata": {},
   "outputs": [],
   "source": [
    "command_pairs = [\n",
    "    [\n",
    "        r\"My (.*) is (.*)\",\n",
    "        [\"{\\\"%1\\\" : \\\"%2\\\"}\"]\n",
    "    ]\n",
    "]"
   ]
  },
  {
   "cell_type": "code",
   "execution_count": 5,
   "metadata": {},
   "outputs": [],
   "source": [
    "command_chat = Chat(command_pairs, reflections)"
   ]
  },
  {
   "cell_type": "markdown",
   "metadata": {},
   "source": [
    "# Google TTS"
   ]
  },
  {
   "cell_type": "code",
   "execution_count": 6,
   "metadata": {},
   "outputs": [],
   "source": [
    "from gtts import gTTS\n",
    "import random\n",
    "from pydub import AudioSegment\n"
   ]
  },
  {
   "cell_type": "code",
   "execution_count": 7,
   "metadata": {},
   "outputs": [],
   "source": [
    "def generate_ogg_file(text):\n",
    "    file_path_mp3 = '../data/tts.mp3'\n",
    "    file_path_ogg = '../data/tts.ogg'\n",
    "    tts = gTTS(text)\n",
    "    tts.save(file_path_mp3)\n",
    "    t = AudioSegment.from_mp3(file_path_mp3)\n",
    "    t.export(file_path_ogg, format=\"ogg\")\n",
    "    return file_path_ogg"
   ]
  },
  {
   "cell_type": "markdown",
   "metadata": {},
   "source": [
    "# Telegram Client"
   ]
  },
  {
   "cell_type": "code",
   "execution_count": 8,
   "metadata": {},
   "outputs": [],
   "source": [
    "from telegram.ext import Updater, CommandHandler, MessageHandler, Filters\n",
    "import json, os"
   ]
  },
  {
   "cell_type": "code",
   "execution_count": 9,
   "metadata": {},
   "outputs": [],
   "source": [
    "token = '714756239:AAHbPt0pF2S0Yggc0dvHn9cTdOVZaAIcC2o'"
   ]
  },
  {
   "cell_type": "code",
   "execution_count": 10,
   "metadata": {},
   "outputs": [],
   "source": [
    "def start_command(bot, update):\n",
    "    bot.send_message(chat_id=update.message.chat_id, text=\"I'm a bot, please talk to me!\")\n",
    "    \n",
    "def stop_command(bot, update):\n",
    "    bot.send_message(chat_id=update.message.chat_id, text=\"Goodbye!\")\n",
    "    shutdown_telegram_client()\n",
    "    \n",
    "def respond_command(bot, update):\n",
    "    response = nltk_chat.respond(update.message.text)\n",
    "    # Save data, if any\n",
    "    data = command_chat.respond(update.message.text)\n",
    "    if data:\n",
    "        update_user_data(update.message.chat.id, data)\n",
    "    # Check what type of respond\n",
    "    path = '../data/data_' + str(update.message.chat.id) + '.json'\n",
    "    user_data = read_json(path)\n",
    "    if 'voice' in user_data and user_data['voice']:\n",
    "        ogg_path = generate_ogg_file(response)\n",
    "        bot.send_voice(chat_id=update.message.chat_id, voice=open(ogg_path, 'rb'))\n",
    "    else:\n",
    "        bot.send_message(chat_id=update.message.chat_id, text=response)\n",
    "    \n",
    "def voice_command(bot, update):\n",
    "    bot.send_message(chat_id=update.message.chat_id, text=\"I will now talk to you!\")\n",
    "    update_user_data(update.message.chat.id, '{\"voice\": true}')\n",
    "\n",
    "def text_command(bot, update):\n",
    "    bot.send_message(chat_id=update.message.chat_id, text=\"I will now write to you!\")\n",
    "    update_user_data(update.message.chat.id, '{\"voice\": false}')\n",
    "    \n",
    "def shutdown_telegram_client():\n",
    "    updater.stop()\n",
    "    updater.is_idle = False"
   ]
  },
  {
   "cell_type": "code",
   "execution_count": 11,
   "metadata": {},
   "outputs": [],
   "source": [
    "def update_user_data(user_id, data):\n",
    "    json_data = json.loads(data)\n",
    "    path = '../data/data_' + str(user_id) + '.json'\n",
    "    create_json_file_if_not_exists(path)\n",
    "    user_data = read_json(path)\n",
    "    # Add new data\n",
    "    for key, value in json_data.items():\n",
    "        user_data[key] = value\n",
    "    # Write to data file\n",
    "    with open(path, 'w+') as json_file:\n",
    "        json.dump(user_data, json_file, ensure_ascii=False)\n",
    "            \n",
    "def create_json_file_if_not_exists(path):\n",
    "    exists = os.path.isfile(path)\n",
    "    if not exists:\n",
    "        with open(path, 'w+') as json_file:\n",
    "            json.dump({}, json_file, ensure_ascii=False)\n",
    "    \n",
    "def read_json(path):\n",
    "    create_json_file_if_not_exists(path)\n",
    "    with open(path, 'r') as json_file:\n",
    "        return json.load(json_file)"
   ]
  },
  {
   "cell_type": "code",
   "execution_count": null,
   "metadata": {},
   "outputs": [],
   "source": [
    "# Create Updater object and attach dispatcher to it\n",
    "updater = Updater(token)\n",
    "dispatcher = updater.dispatcher\n",
    "\n",
    "# Add command handler to dispatcher\n",
    "dispatcher.add_handler(CommandHandler('start', start_command))\n",
    "dispatcher.add_handler(MessageHandler(Filters.text, respond_command))\n",
    "dispatcher.add_handler(CommandHandler('stop', stop_command))\n",
    "dispatcher.add_handler(CommandHandler('text', text_command))\n",
    "dispatcher.add_handler(CommandHandler('voice', voice_command))\n",
    "\n",
    "updater.start_polling()\n",
    "updater.idle()"
   ]
  },
  {
   "cell_type": "code",
   "execution_count": null,
   "metadata": {},
   "outputs": [],
   "source": []
  }
 ],
 "metadata": {
  "kernelspec": {
   "display_name": "Python 3",
   "language": "python",
   "name": "python3"
  },
  "language_info": {
   "codemirror_mode": {
    "name": "ipython",
    "version": 3
   },
   "file_extension": ".py",
   "mimetype": "text/x-python",
   "name": "python",
   "nbconvert_exporter": "python",
   "pygments_lexer": "ipython3",
   "version": "3.7.4"
  }
 },
 "nbformat": 4,
 "nbformat_minor": 2
}
